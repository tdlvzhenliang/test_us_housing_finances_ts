{
 "cells": [
  {
   "cell_type": "code",
   "execution_count": null,
   "metadata": {},
   "outputs": [],
   "source": [
    "import pandas as pd\n",
    "import plotly.express as px\n",
    "import matplotlib.pyplot as plot\n",
    "import numpy as np\n",
    "import datetime as dt\n",
    "import requests\n",
    "\n",
    "from fredapi import Fred\n"
   ]
  },
  {
   "cell_type": "markdown",
   "metadata": {},
   "source": [
    "only need todo this once\n",
    "need to download Python first on your computer\n",
    "need to open Command Prompt and run these lines:\n",
    "pip install pandas\n",
    "pip install plotly\n",
    "pip install fredapi\n",
    "etc"
   ]
  },
  {
   "cell_type": "code",
   "execution_count": null,
   "metadata": {},
   "outputs": [],
   "source": [
    "credentials = \"022867c5abb889fd94080143bfb28367\""
   ]
  },
  {
   "cell_type": "code",
   "execution_count": null,
   "metadata": {},
   "outputs": [],
   "source": [
    "fred = Fred(api_key=credentials)\n"
   ]
  },
  {
   "cell_type": "code",
   "execution_count": null,
   "metadata": {},
   "outputs": [],
   "source": [
    "search = fred.search('private debt')\n",
    "print(search)"
   ]
  },
  {
   "cell_type": "code",
   "execution_count": null,
   "metadata": {},
   "outputs": [],
   "source": [
    "search['title']"
   ]
  },
  {
   "cell_type": "code",
   "execution_count": null,
   "metadata": {},
   "outputs": [],
   "source": [
    "timeseries_code = \"MORTGAGE15US\"\n",
    "data = fred.get_series(series_id=timeseries_code)\n",
    "data.plot()\n"
   ]
  },
  {
   "cell_type": "code",
   "execution_count": null,
   "metadata": {},
   "outputs": [],
   "source": [
    "data.name = 'values' #first column is values; this is not a df, this is a vector with an index\n",
    "df = pd.DataFrame(data).reset_index() #this means, name that table index\n"
   ]
  },
  {
   "cell_type": "code",
   "execution_count": null,
   "metadata": {},
   "outputs": [],
   "source": [
    "df2 = df[df['index']>'2000-01-01']\n",
    "\n",
    "graph = px.line(df2, x = 'index', y = 'values')\n",
    "graph.show()"
   ]
  },
  {
   "cell_type": "code",
   "execution_count": null,
   "metadata": {},
   "outputs": [],
   "source": [
    "print(df2)\n",
    "df2.to_csv(f'{timeseries_code}.csv')"
   ]
  },
  {
   "cell_type": "markdown",
   "metadata": {},
   "source": [
    "use these sources for mortgage rate and LTVs:\n",
    "1) https://fred.stlouisfed.org/series/MORTGAGE30US\n",
    "2) https://fred.stlouisfed.org/series/RCMFLOLTVPCT50"
   ]
  },
  {
   "cell_type": "code",
   "execution_count": 33,
   "metadata": {},
   "outputs": [],
   "source": [
    "codes = ['MORTGAGE30US', 'RCMFLOLTVPCT50']\n",
    "\n",
    "for code in codes:\n",
    "    data = fred.get_series(series_id=code)\n",
    "    data.name = 'values'\n",
    "    df = pd.DataFrame(data).reset_index()\n",
    "    df.to_csv(f'{code}.csv')"
   ]
  },
  {
   "cell_type": "markdown",
   "metadata": {},
   "source": [
    "Using the url to get the FRED data; (this is Ansh trying to use the base url to call data directly, instead of using the fred module)\n",
    "- this is not complete yet\n",
    "- not recommended to start with this becaue its more technical when you have to parse from json to a dataframe, use the fred module above because its parsed already\n",
    "- f' is similar to paste / glue in R\n",
    "- see https://fred.stlouisfed.org/docs/api/fred/"
   ]
  },
  {
   "cell_type": "code",
   "execution_count": null,
   "metadata": {},
   "outputs": [],
   "source": [
    "type = \"releases\"\n",
    "base_url = f'https://api.stlouisfed.org/fred/{type}?api_key={credentials}&file_type=json'\n",
    "\n",
    "response = requests.get(base_url)\n",
    "response = response.json()\n",
    "\n",
    "data = pd.DataFrame(response)\n",
    "\n",
    "\"https://api.stlouisfed.org/fred/series?series_id=GNPCA&api_key=022867c5abb889fd94080143bfb28367&file_type=json\"\n",
    "\n"
   ]
  },
  {
   "cell_type": "code",
   "execution_count": null,
   "metadata": {},
   "outputs": [],
   "source": [
    "\n",
    "series_id = \"MORTGAGE30US\"\n",
    "\n",
    "url  = f'https://api.stlouisfed.org/fred/series?series_id={series_id}&api_key={credentials}&file_type=json'\n",
    "\n"
   ]
  },
  {
   "cell_type": "code",
   "execution_count": null,
   "metadata": {},
   "outputs": [],
   "source": [
    "response =  requests.get(url)\n",
    "data = pd.DataFrame(response.json())"
   ]
  },
  {
   "cell_type": "code",
   "execution_count": null,
   "metadata": {},
   "outputs": [],
   "source": [
    "print(data)"
   ]
  }
 ],
 "metadata": {
  "kernelspec": {
   "display_name": "Python 3",
   "language": "python",
   "name": "python3"
  },
  "language_info": {
   "codemirror_mode": {
    "name": "ipython",
    "version": 3
   },
   "file_extension": ".py",
   "mimetype": "text/x-python",
   "name": "python",
   "nbconvert_exporter": "python",
   "pygments_lexer": "ipython3",
   "version": "3.11.8"
  }
 },
 "nbformat": 4,
 "nbformat_minor": 2
}
